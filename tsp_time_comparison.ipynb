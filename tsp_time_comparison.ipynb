{
 "metadata": {
  "language_info": {
   "codemirror_mode": {
    "name": "ipython",
    "version": 3
   },
   "file_extension": ".py",
   "mimetype": "text/x-python",
   "name": "python",
   "nbconvert_exporter": "python",
   "pygments_lexer": "ipython3",
   "version": "3.8.5-final"
  },
  "orig_nbformat": 2,
  "kernelspec": {
   "name": "Python 3.8.5 64-bit ('cs716': conda)",
   "display_name": "Python 3.8.5 64-bit ('cs716': conda)",
   "metadata": {
    "interpreter": {
     "hash": "223c54ac13fd6c08756e386738cc157cbf71a0500008cc115bcf63ed612fe003"
    }
   }
  }
 },
 "nbformat": 4,
 "nbformat_minor": 2,
 "cells": [
  {
   "cell_type": "code",
   "execution_count": 1,
   "metadata": {},
   "outputs": [],
   "source": [
    "import numpy as np\n",
    "import largest_angle\n",
    "import eccentric_ellipse\n",
    "import nearest_neighbor\n",
    "import nearest_addition\n",
    "import timeit\n",
    "from matplotlib import pyplot as plot"
   ]
  },
  {
   "cell_type": "code",
   "execution_count": 2,
   "metadata": {},
   "outputs": [],
   "source": [
    "ten_points = [\n",
    "        (10, 4),\n",
    "        (7, 3),\n",
    "        (8, 1),\n",
    "        (6, -1),\n",
    "        (9, -2),\n",
    "        (11, -1),\n",
    "        (12, 0),\n",
    "        (15, 1),\n",
    "        (14, 3),\n",
    "        (13, 3)\n",
    "    ]"
   ]
  },
  {
   "cell_type": "code",
   "execution_count": 3,
   "metadata": {
    "tags": []
   },
   "outputs": [
    {
     "output_type": "stream",
     "name": "stdout",
     "text": [
      "4.26 ms ± 717 µs per loop (mean ± std. dev. of 7 runs, 100 loops each)\n"
     ]
    }
   ],
   "source": [
    "%timeit largest_angle.largest_angle_tsp(ten_points)"
   ]
  },
  {
   "cell_type": "code",
   "execution_count": 4,
   "metadata": {},
   "outputs": [
    {
     "output_type": "stream",
     "name": "stdout",
     "text": [
      "3.76 ms ± 479 µs per loop (mean ± std. dev. of 7 runs, 100 loops each)\n"
     ]
    }
   ],
   "source": [
    "%timeit eccentric_ellipse.eccentric_ellipse(ten_points)"
   ]
  },
  {
   "cell_type": "code",
   "execution_count": 5,
   "metadata": {},
   "outputs": [
    {
     "output_type": "stream",
     "name": "stdout",
     "text": [
      "5.17 ms ± 124 µs per loop (mean ± std. dev. of 7 runs, 100 loops each)\n"
     ]
    }
   ],
   "source": [
    "%timeit nearest_neighbor.nearest_neighbour(ten_points)"
   ]
  },
  {
   "cell_type": "code",
   "execution_count": 6,
   "metadata": {},
   "outputs": [
    {
     "output_type": "stream",
     "name": "stdout",
     "text": [
      "9.56 ms ± 195 µs per loop (mean ± std. dev. of 7 runs, 100 loops each)\n"
     ]
    }
   ],
   "source": [
    "%timeit nearest_neighbor.nearest_neighbour_double_ended(ten_points)"
   ]
  },
  {
   "cell_type": "code",
   "execution_count": 7,
   "metadata": {},
   "outputs": [
    {
     "output_type": "stream",
     "name": "stdout",
     "text": [
      "4.95 ms ± 64.1 µs per loop (mean ± std. dev. of 7 runs, 100 loops each)\n"
     ]
    }
   ],
   "source": [
    "%timeit nearest_neighbor.nearest_neighbour_multi_ended(ten_points)"
   ]
  },
  {
   "cell_type": "code",
   "execution_count": 8,
   "metadata": {},
   "outputs": [
    {
     "output_type": "stream",
     "name": "stdout",
     "text": [
      "620 µs ± 14.9 µs per loop (mean ± std. dev. of 7 runs, 1000 loops each)\n"
     ]
    }
   ],
   "source": [
    "%timeit nearest_addition.nearest_addition(ten_points)"
   ]
  },
  {
   "cell_type": "code",
   "execution_count": 9,
   "metadata": {},
   "outputs": [
    {
     "output_type": "stream",
     "name": "stdout",
     "text": [
      "1.17 ms ± 35.4 µs per loop (mean ± std. dev. of 7 runs, 1000 loops each)\n"
     ]
    }
   ],
   "source": [
    "%timeit nearest_addition.farthest_addition(ten_points)"
   ]
  },
  {
   "cell_type": "code",
   "execution_count": 10,
   "metadata": {},
   "outputs": [
    {
     "output_type": "stream",
     "name": "stdout",
     "text": [
      "848 µs ± 10.1 µs per loop (mean ± std. dev. of 7 runs, 1000 loops each)\n"
     ]
    }
   ],
   "source": [
    "%timeit nearest_addition.random_addition(ten_points)"
   ]
  },
  {
   "cell_type": "code",
   "execution_count": 11,
   "metadata": {},
   "outputs": [],
   "source": [
    "def calculate_tour_cost(tsp: list):\n",
    "    cost = 0\n",
    "    for idx, p in enumerate(tsp):\n",
    "        p = np.array(p)\n",
    "        q = np.array(tsp[idx - 1])\n",
    "        cost += np.linalg.norm(p - q)\n",
    "    return cost"
   ]
  },
  {
   "cell_type": "code",
   "execution_count": 12,
   "metadata": {},
   "outputs": [],
   "source": [
    "algos = [largest_angle.largest_angle_tsp, eccentric_ellipse.eccentric_ellipse, nearest_neighbor.nearest_neighbour, nearest_neighbor.nearest_neighbour_double_ended, nearest_neighbor.nearest_neighbour_multi_ended, nearest_addition.nearest_addition, nearest_addition.farthest_addition, nearest_addition.random_addition]"
   ]
  },
  {
   "cell_type": "code",
   "execution_count": null,
   "metadata": {},
   "outputs": [],
   "source": [
    "tsp = largest_angle.largest_angle_tsp(ten_points)"
   ]
  },
  {
   "cell_type": "code",
   "execution_count": 13,
   "metadata": {},
   "outputs": [
    {
     "output_type": "execute_result",
     "data": {
      "text/plain": [
       "[(9.765237164789898, 0.7408254212068122),\n",
       " (1.9505566550757059, 2.823370108366978),\n",
       " (0.9862353466821949, 2.116776995131281),\n",
       " (8.181467127885233, 3.4146705455448356),\n",
       " (3.0603024749607566, 4.641643496630921),\n",
       " (6.5518754925640685, 7.5005959131056095),\n",
       " (3.162031824854552, 6.342138984931065),\n",
       " (5.080273380198576, 9.894305431032521),\n",
       " (3.731405265358788, 9.281969793750799),\n",
       " (8.766760882486471, 2.9310526298623083)]"
      ]
     },
     "metadata": {},
     "execution_count": 13
    }
   ],
   "source": [
    "list(map(tuple, np.random.random((10, 2)) * 10))"
   ]
  },
  {
   "cell_type": "code",
   "execution_count": 17,
   "metadata": {},
   "outputs": [],
   "source": [
    "import time\n",
    "\n",
    "point_counts = [10, 20, 30, 40, 50]\n",
    "times = []\n",
    "costs = []\n",
    "\n",
    "for point_count in point_counts:\n",
    "    points = list(map(tuple, np.random.random((point_count, 2)) * point_count))\n",
    "\n",
    "    # print(points)\n",
    "    \n",
    "    point_times = []\n",
    "    point_costs = []\n",
    "\n",
    "    for algo in algos:\n",
    "        start = time.time()\n",
    "        tsp = algo(points)\n",
    "        end = time.time()\n",
    "        point_times.append(end - start)\n",
    "        point_costs.append(calculate_tour_cost(tsp))\n",
    "    \n",
    "    costs.append([point_costs])\n",
    "    times.append([point_times])"
   ]
  },
  {
   "cell_type": "code",
   "execution_count": 18,
   "metadata": {},
   "outputs": [
    {
     "output_type": "execute_result",
     "data": {
      "text/plain": [
       "[[[0.005999326705932617,\n",
       "   0.004998207092285156,\n",
       "   0.00700068473815918,\n",
       "   0.014002084732055664,\n",
       "   0.005997419357299805,\n",
       "   0.001001596450805664,\n",
       "   0.0010001659393310547,\n",
       "   0.0009992122650146484]],\n",
       " [[0.010999679565429688,\n",
       "   0.009996414184570312,\n",
       "   0.028003454208374023,\n",
       "   0.05699944496154785,\n",
       "   0.026996135711669922,\n",
       "   0.0020034313201904297,\n",
       "   0.0029981136322021484,\n",
       "   0.0020012855529785156]],\n",
       " [[0.03096461296081543,\n",
       "   0.026996612548828125,\n",
       "   0.11603784561157227,\n",
       "   0.20000362396240234,\n",
       "   0.07296085357666016,\n",
       "   0.004051685333251953,\n",
       "   0.004984855651855469,\n",
       "   0.003008604049682617]],\n",
       " [[0.04999995231628418,\n",
       "   0.049002647399902344,\n",
       "   0.2659578323364258,\n",
       "   0.5500001907348633,\n",
       "   0.1480402946472168,\n",
       "   0.007003307342529297,\n",
       "   0.007998228073120117,\n",
       "   0.005960226058959961]],\n",
       " [[0.06600260734558105,\n",
       "   0.07499837875366211,\n",
       "   0.4839968681335449,\n",
       "   0.9570002555847168,\n",
       "   0.31503939628601074,\n",
       "   0.009001731872558594,\n",
       "   0.011002540588378906,\n",
       "   0.00799870491027832]]]"
      ]
     },
     "metadata": {},
     "execution_count": 18
    }
   ],
   "source": [
    "times"
   ]
  },
  {
   "cell_type": "code",
   "execution_count": 19,
   "metadata": {},
   "outputs": [
    {
     "output_type": "execute_result",
     "data": {
      "text/plain": [
       "[[[32.49553392243425,\n",
       "   31.63901840714492,\n",
       "   32.68990937843687,\n",
       "   34.847893505934096,\n",
       "   34.8478935059341,\n",
       "   47.42949591256462,\n",
       "   51.628446047956544,\n",
       "   41.655605609214504]],\n",
       " [[81.6085571964056,\n",
       "   81.6085571964056,\n",
       "   87.254511854193,\n",
       "   84.30718318122416,\n",
       "   91.61870734019992,\n",
       "   139.62371021878772,\n",
       "   155.02207023621008,\n",
       "   137.55155163996142]],\n",
       " [[155.51068361885032,\n",
       "   146.7723129439321,\n",
       "   147.60070879836655,\n",
       "   146.62168412387288,\n",
       "   162.0765495631457,\n",
       "   276.24819189503717,\n",
       "   323.98346148850925,\n",
       "   252.89243451549632]],\n",
       " [[244.4245385575765,\n",
       "   244.6085355027447,\n",
       "   243.8091306089455,\n",
       "   243.59770218768165,\n",
       "   251.60887193842075,\n",
       "   546.8163494289239,\n",
       "   666.9922152110066,\n",
       "   425.06169838843886]],\n",
       " [[297.1550225020521,\n",
       "   283.1878234122379,\n",
       "   297.5209267389013,\n",
       "   288.04867704945684,\n",
       "   327.476934784042,\n",
       "   710.219863316307,\n",
       "   975.2389257630641,\n",
       "   721.0169512999323]]]"
      ]
     },
     "metadata": {},
     "execution_count": 19
    }
   ],
   "source": [
    "costs"
   ]
  },
  {
   "cell_type": "code",
   "execution_count": null,
   "metadata": {},
   "outputs": [],
   "source": []
  }
 ]
}